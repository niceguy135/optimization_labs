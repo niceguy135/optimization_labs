{
 "cells": [
  {
   "cell_type": "markdown",
   "id": "518fcbde-28d0-42cf-a549-3b3efb523a40",
   "metadata": {},
   "source": [
    "# Задание 1\n",
    "\n",
    "Написать в среде MATLAB функции, реализующие метод перебора, метод поразрядного поиска, метод дихотомии, метод золотого сечения, метод парабол, метод средней точки, метод хорд и метод Ньютона."
   ]
  },
  {
   "cell_type": "code",
   "execution_count": 5,
   "id": "51436639-3af4-4b2e-9eec-3409351f2546",
   "metadata": {},
   "outputs": [],
   "source": [
    "# МЕТОД ПЕРЕБОРА\n",
    "\n",
    "from math import ceil\n",
    "\n",
    "def iterate_method(func, a, b, eps):\n",
    "    \"\"\"Реализация метода перебора. Возвращает точку минимума, значение минимума функции и количество вычислений\"\"\"\n",
    "\n",
    "    segments_number = ceil((b - a)/eps)\n",
    "\n",
    "    func_results = []\n",
    "    for point_num in range(segments_number+1):\n",
    "        func_point = a + point_num*(b-a)/segments_number\n",
    "        func_results.append(\n",
    "            (func_point, func(func_point))\n",
    "        )\n",
    "\n",
    "    return *min(func_results, key=lambda x: x[1]), segments_number"
   ]
  },
  {
   "cell_type": "code",
   "execution_count": 19,
   "id": "0b9c5235-7343-48ec-b946-f8c67e1681dd",
   "metadata": {},
   "outputs": [],
   "source": [
    "# МЕТОД ПОРАЗРЯДНОГО ПОИСКА\n",
    "from functools import total_ordering\n",
    "\n",
    "\n",
    "@total_ordering\n",
    "class Point:\n",
    "    \"\"\"Класс точки функции и ее значения для более удобных манипуляций\"\"\"\n",
    "\n",
    "    def __init__(self, point, value):\n",
    "        self.point = point\n",
    "        self.value = value\n",
    "\n",
    "    def __eq__(self, other):\n",
    "        return self.value == other.value\n",
    "\n",
    "    def __le__(self, other):\n",
    "            return self.value <= other.value\n",
    "\n",
    "\n",
    "def bitByBitSearch(func, a, b, eps):\n",
    "    \"\"\"Реализация метода поразрядного поиска. Возвращает точку минимума, значение минимума функции и количество вычислений\"\"\"\n",
    "\n",
    "    cur_eps = 0.25 if 0.25 > eps else eps\n",
    "    left_bound, right_bound = a, b\n",
    "\n",
    "    direction_to_right = True\n",
    "    compute_number = 0\n",
    "    \n",
    "    min_point = Point(0, float('inf'))\n",
    "    \n",
    "    while True:\n",
    "        segments_number = ceil((right_bound - left_bound)/cur_eps)\n",
    "\n",
    "        cur_range = range(segments_number+1) if direction_to_right else range(segments_number, -1, -1)\n",
    "\n",
    "        for point_num in cur_range:\n",
    "            compute_number += 1\n",
    "            \n",
    "            func_arg = left_bound + point_num*(right_bound - left_bound)/segments_number\n",
    "            func_value = func(func_arg)\n",
    "            func_point = Point(func_arg, func_value)\n",
    "            \n",
    "            if func_point >= min_point:\n",
    "                break\n",
    "            else:\n",
    "                min_point = func_point\n",
    "\n",
    "        if cur_eps <= eps:\n",
    "            break\n",
    "        else:\n",
    "            direction_to_right = not direction_to_right\n",
    "            cur_eps /= 4\n",
    "\n",
    "    return min_point.point, min_point.value, compute_number\n",
    "                \n"
   ]
  },
  {
   "cell_type": "code",
   "execution_count": null,
   "id": "78599d42-8001-4016-a91f-7b6be76a0a5e",
   "metadata": {},
   "outputs": [],
   "source": []
  }
 ],
 "metadata": {
  "kernelspec": {
   "display_name": "Python 3 (ipykernel)",
   "language": "python",
   "name": "python3"
  },
  "language_info": {
   "codemirror_mode": {
    "name": "ipython",
    "version": 3
   },
   "file_extension": ".py",
   "mimetype": "text/x-python",
   "name": "python",
   "nbconvert_exporter": "python",
   "pygments_lexer": "ipython3",
   "version": "3.11.1"
  }
 },
 "nbformat": 4,
 "nbformat_minor": 5
}
