{
 "cells": [
  {
   "cell_type": "markdown",
   "metadata": {},
   "source": [
    "# Лабораторная работа 2\n",
    "\n",
    "## Задание 1\n",
    "Реализовать в среде MATLAB метод наискорейшего спуска, сопряженных градиентов, Ньютона, правильного симплекса, циклического покоординатного спуска, Хука-Дживса и случайного поиска, при реализации методов использовать аналитические значения производных и их разностные аппроксимации."
   ]
  },
  {
   "cell_type": "code",
   "execution_count": 9,
   "metadata": {},
   "outputs": [],
   "source": [
    "import math\n",
    "from sympy import lambdify\n",
    "from sympy.abc import x, y\n",
    "\n",
    "from functools import total_ordering\n",
    "\n",
    "\n",
    "@total_ordering\n",
    "class Point:\n",
    "    \"\"\"Класс точки функции и ее значения для более удобных манипуляций\"\"\"\n",
    "\n",
    "    def __init__(self, x_p, y_p, value=float('inf')):\n",
    "        self.x_point = x_p\n",
    "        self.y_point = y_p\n",
    "        self.value = value\n",
    "\n",
    "    def __eq__(self, other):\n",
    "        return self.value == other.value\n",
    "\n",
    "    def __le__(self, other):\n",
    "            return self.value <= other.value\n",
    "    \n",
    "    def get_coords(self):\n",
    "         return self.x_point, self.y_point\n",
    "\n",
    "\n",
    "def calcule_gradient(func, symbols, values):\n",
    "    direvatives_matrix = [func.diff(arg) for arg in symbols]\n",
    "    gradient_matrix = [lambdify(symbols, derevat)(*values) for derevat in direvatives_matrix]\n",
    "    return gradient_matrix\n",
    "\n",
    "\n",
    "def euclid_norm(matrix):\n",
    "    return sum(\n",
    "        [math.sqrt(value) for value in matrix]\n",
    "    )\n"
   ]
  },
  {
   "cell_type": "code",
   "execution_count": 1,
   "metadata": {},
   "outputs": [],
   "source": [
    "def fastest_downhill(func, x_val, y_val, eps):\n",
    "\n",
    "    point = Point(x_val, y_val)\n",
    "\n",
    "    func_lambd = lambdify([x, y], func)\n",
    "    point.value = func_lambd(x_val, y_val)\n",
    "\n",
    "    gradient_matrix = calcule_gradient(func, [x, y], [x_val, y_val])\n",
    "    gradient_norm = euclid_norm(gradient_matrix)\n",
    "\n",
    "    while gradient_norm >= eps:\n",
    "        pass\n",
    "\n",
    "    return point.get_coords(), func_lambd(*point.get_coords())"
   ]
  },
  {
   "cell_type": "code",
   "execution_count": null,
   "metadata": {},
   "outputs": [],
   "source": []
  }
 ],
 "metadata": {
  "kernelspec": {
   "display_name": "Python 3",
   "language": "python",
   "name": "python3"
  },
  "language_info": {
   "codemirror_mode": {
    "name": "ipython",
    "version": 3
   },
   "file_extension": ".py",
   "mimetype": "text/x-python",
   "name": "python",
   "nbconvert_exporter": "python",
   "pygments_lexer": "ipython3",
   "version": "3.11.0"
  }
 },
 "nbformat": 4,
 "nbformat_minor": 2
}
